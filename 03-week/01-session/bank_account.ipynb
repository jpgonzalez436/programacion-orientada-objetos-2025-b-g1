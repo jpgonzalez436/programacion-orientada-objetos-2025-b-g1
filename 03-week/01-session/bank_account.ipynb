{
  "nbformat": 4,
  "nbformat_minor": 0,
  "metadata": {
    "colab": {
      "provenance": []
    },
    "kernelspec": {
      "name": "python3",
      "display_name": "Python 3"
    },
    "language_info": {
      "name": "python"
    }
  },
  "cells": [
    {
      "cell_type": "code",
      "execution_count": 1,
      "metadata": {
        "colab": {
          "base_uri": "https://localhost:8080/"
        },
        "id": "YYPUhHbBCEqZ",
        "outputId": "0d59064d-a551-47a8-f694-d401bd7253ff"
      },
      "outputs": [
        {
          "output_type": "stream",
          "name": "stdout",
          "text": [
            "CuentaBancaria(titular='Juan Gonzalez', saldo=500000.00)\n",
            "CuentaBancaria(titular='Juan Gonzalez', saldo=550000.00)\n",
            "CuentaBancaria(titular='Juan Gonzalez', saldo=100000.00)\n",
            "CuentaBancaria(titular='Juan Gonzalez', saldo=90000.00)\n",
            "CuentaBancaria(titular='Juan Gonzalez', saldo=140000.00)\n",
            "Historial de transacciones:\n",
            "Depósito de 50000\n",
            "Retiro de 450000\n",
            "Retiro de 10000\n",
            "Depósito de 50000\n"
          ]
        }
      ],
      "source": [
        "# Justificación:\n",
        "# Se aplica la POO en Python mediante una simulación decuenta bancaria.\n",
        "# Con ello se practican los enfoques de encapsulamiento, validación de datos y trazabilidad de operaciones.\n",
        "# Se implementan conceptos desconocidos (en mi caso) de métodos especiales que permiten inicializar y representar objetos.\n",
        "# La lógica del ejercicio es modelar un objeto del mundo real, en este caso una cuenta bancara, y hacerla funcional en código de Python.\n",
        "class CuentaBancaria:\n",
        "    def __init__(self, titular: str, saldo_inicial: float = 0.0):\n",
        "        if saldo_inicial < 0:\n",
        "          raise ValueError(\"El saldo inicial no puede ser negativo\")\n",
        "        self.titular = titular\n",
        "        self._saldo = float(saldo_inicial)\n",
        "        self.historial: list[str] = []\n",
        "\n",
        "    @property\n",
        "    def saldo(self) -> float:\n",
        "        return self._saldo\n",
        "\n",
        "    def depositar(self, monto: float) -> None:\n",
        "        if monto <= 0:\n",
        "          raise ValueError(\"El depósito debe ser positivo\")\n",
        "        self._saldo += monto\n",
        "        self.historial.append(f\"Depósito de {monto}\")\n",
        "\n",
        "    def retirar(self, monto: float) -> None:\n",
        "        if monto <= 0:\n",
        "          raise ValueError(\"El retiro debe ser positivo\")\n",
        "        if monto > self._saldo:\n",
        "          raise ValueError(\"Fondos insuficientes\")\n",
        "        self._saldo -= monto\n",
        "        self.historial.append(f\"Retiro de {monto}\")\n",
        "\n",
        "    def __repr__(self) -> str:\n",
        "        return f\"CuentaBancaria(titular='{self.titular}', saldo={self._saldo:.2f})\"\n",
        "\n",
        "# Para poder ejecutar el código se asignan datos a la clase.\n",
        "try:\n",
        "    cuenta1 = CuentaBancaria(\"Juan Gonzalez\",500000)\n",
        "    print(cuenta1)\n",
        "\n",
        "    cuenta1.depositar(50000)\n",
        "    print(cuenta1)\n",
        "\n",
        "    cuenta1.retirar(450000)\n",
        "    print(cuenta1)\n",
        "\n",
        "    cuenta1.retirar(10000)\n",
        "    print(cuenta1)\n",
        "\n",
        "    cuenta1.depositar(50000)\n",
        "    print(cuenta1)\n",
        "\n",
        "    print(\"Historial de transacciones:\")\n",
        "    for transaccion in cuenta1.historial:\n",
        "        print(transaccion)\n",
        "\n",
        "except ValueError as e:\n",
        "    print(f\"Error: {e}\")\n",
        "\n",
        "# Resumen de aprendizaje\n",
        "# • Aprendí qué es una clase, funciones, métodos y otros conceptos en Python.\n",
        "# • Entendí un poco acerca del método constructor __init__.\n",
        "# • Entendí un poco de el uso de self para acceder a atributos y métodos del objeto.\n",
        "# • Conocí el concepto de encapsulamiento mediante atributos privados (_saldo).\n",
        "# • Aprendí a usar validaciones con condicionales y raise ValueError.\n",
        "# • Descubrí que existen propiedades @property para acceder a datos de manera controlada.\n",
        "# • Practiqué mi lógica de programación al intentar entender el código.\n",
        "\n"
      ]
    },
    {
      "cell_type": "markdown",
      "source": [
        "Este ejercicio es practicamente el primer acercamiento que tengo de Python, ya había estudiado un poco de C++ el primer semestre pero nada de Python. Se nota que este lenguaje es mucho más facil de comprender. Estoy repasando lo basico de la sintaxis para poder seguir este curso, entendí mas o menos un 40% del ejercicio, pues hay varios conceptos que aún no asimilo y sobre todo sus usos, como lo son funciones, clases, constructores, atributos, etc."
      ],
      "metadata": {
        "id": "kzk6h3yhFo6e"
      }
    }
  ]
}