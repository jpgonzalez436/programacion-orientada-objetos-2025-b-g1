{
 "cells": [
  {
   "cell_type": "markdown",
   "id": "299a85d2",
   "metadata": {},
   "source": [
    "Conceptos:\n",
    "-ABC (Abstract Base Class): Permite definir una clase que sirve solo como modelo, obligando a que las subclases implementen métodos (en este caso, leer()).\n",
    "-@classmethod: Método especial que permite construir un objeto usando datos de configuración (diccionarios) sin necesidad de instanciar directamente la clase.\n",
    "\n",
    "Justificación:\n",
    "\n",
    "En este ejercicio se busca modelar un sistema de sensores aplicando conceptos de abstracción ABC y reutilización de código. ABC asegura que todos los sensores tengan el mismo contrato (leer()), lo que ayuda al orden del código. El decorador @classmethod con from_config permite instanciar sensores a partir de diccionarios. La idea es usar estos conceptos para \"resumir\" el código y permitir la extensibilidad.\n"
   ]
  },
  {
   "cell_type": "code",
   "execution_count": 1,
   "id": "05696f9f",
   "metadata": {},
   "outputs": [
    {
     "name": "stdout",
     "output_type": "stream",
     "text": [
      "Lectura de sensor de temperatura: 21.9283732280224\n",
      "Lectura de sensor de humedad: 54.19438106682218\n"
     ]
    }
   ],
   "source": [
    "#Se importan las librerías abcm abstractmethod y random que sirven para crear clases abstractas y generar números aleatorios respectivamente.\n",
    "from abc import ABC, abstractmethod \n",
    "import random\n",
    "\n",
    "# Se crea una clase abstracta llamada sensor con un método abstracto leer y un método de clase from_config.\n",
    "class Sensor(ABC): #ABC es la clase base para definir clases abstractas en Python.\n",
    "    @abstractmethod #@abstractmethod es un decorador que indica que el método debe ser implementado por cualquier subclase concreta.\n",
    "    def leer(self): # leer es un método abstracto que debe ser implementado por las subclases.\n",
    "        pass #pass es una declaración nula que se utiliza como un marcador de posición. basicamente no hace nada.\n",
    "\n",
    "    @classmethod  #classmethod es un decorador que indica que el método recibe la clase como primer argumento en lugar de una instancia.\n",
    "    def from_config(cls, cfg): #el atributo cls representa la clase en sí misma y cfg es un diccionario de configuración.\n",
    "        return cls(**{k: v for k, v in cfg.items() if k != \"tipo\"}) \n",
    "#return cls sirve para crear una instancia de la clase utilizando los parámetros del diccionario cfg, excluyendo la clave \"tipo\".\n",
    "#Las variables k y v representan las claves y valores del diccionario cfg respectivamente.\n",
    "\n",
    "class SensorTemperatura(Sensor):\n",
    "    def __init__(self, offset): #offset es un parámetro que se utiliza para ajustar la lectura de temperatura.\n",
    "        self.offset = offset\n",
    "\n",
    "    def leer(self):\n",
    "        return random.uniform(20, 30) + self.offset \n",
    "#random.uniform(20, 30) genera un número aleatorio entre 20 y 30, al que se le suma el offset para ajustar la lectura.\n",
    "\n",
    "class SensorHumedad(Sensor):\n",
    "    def __init__(self, escala):\n",
    "        self.escala = escala\n",
    "\n",
    "    def leer(self):\n",
    "        return random.uniform(40, 70) * self.escala\n",
    "    #random.uniform(40, 70) genera un número aleatorio entre 40 y 70, que se multiplica por la escala para ajustar la lectura.\n",
    "\n",
    "\n",
    "#Aqui se define una función crear_sensor que toma un diccionario de configuración y crea una instancia del sensor correspondiente.\n",
    "def crear_sensor(cfg):\n",
    "    tipo = cfg[\"tipo\"] #tipo es una variable que obtiene el valor asociado a la clave \"tipo\" en el diccionario cfg.\n",
    "    if tipo == \"temperatura\":\n",
    "        return SensorTemperatura.from_config(cfg)\n",
    "    elif tipo == \"humedad\":\n",
    "        return SensorHumedad.from_config(cfg)\n",
    "    else:\n",
    "        raise ValueError(f\"Tipo de sensor no reconocido: {tipo}\") \n",
    "#raise ValueError sirve para lanzar una excepción si el tipo de sensor no es reconocido.\n",
    "\n",
    "\n",
    "# EJEMPLO DE USO\n",
    "\n",
    "cfg_temp = {\"tipo\": \"temperatura\", \"offset\": 1.5}\n",
    "cfg_hum  = {\"tipo\": \"humedad\", \"escala\": 0.8}\n",
    "\n",
    "sensor1 = crear_sensor(cfg_temp)\n",
    "sensor2 = crear_sensor(cfg_hum)\n",
    "\n",
    "print(\"Lectura de sensor de temperatura:\", sensor1.leer())\n",
    "print(\"Lectura de sensor de humedad:\", sensor2.leer())\n"
   ]
  },
  {
   "cell_type": "markdown",
   "id": "6329cf8e",
   "metadata": {},
   "source": [
    "Aprendizajes:\n",
    "\n",
    "-Las clases abstractas (ABC) obligan a que todas las clases hijas implementen el método leer().\n",
    "-La extensibilidad permite agregar nuevos sensores sin modificar el código existente.\n",
    "-Un diccionario y una configuración permiten guardar instrucciones clave-valor para crear sensores fácilmente.\n",
    "-Con @classmethod y from_config: convierten automáticamente un diccionario en un objeto.\n",
    "-La fábrica de sensores: crea el sensor correcto según el tipo indicado en la configuración.\n",
    "\n",
    "Este ejercicio directamente fue el más dificil, se me hizo bastante desafiante y espero con ansias la explicación del profe sobre como hacer esto de manera eficiente y correcta."
   ]
  }
 ],
 "metadata": {
  "kernelspec": {
   "display_name": "Python 3",
   "language": "python",
   "name": "python3"
  },
  "language_info": {
   "codemirror_mode": {
    "name": "ipython",
    "version": 3
   },
   "file_extension": ".py",
   "mimetype": "text/x-python",
   "name": "python",
   "nbconvert_exporter": "python",
   "pygments_lexer": "ipython3",
   "version": "3.11.9"
  }
 },
 "nbformat": 4,
 "nbformat_minor": 5
}
