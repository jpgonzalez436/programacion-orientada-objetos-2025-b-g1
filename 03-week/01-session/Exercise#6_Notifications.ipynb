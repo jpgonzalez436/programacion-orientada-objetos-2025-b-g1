{
 "cells": [
  {
   "cell_type": "markdown",
   "id": "737d4124",
   "metadata": {},
   "source": [
    "Enfoques POO:\n",
    "-Jerarquía de tipos: organizamos las notificaciones en una familia con una clase base y sus subclases.\n",
    "-Polimorfismo con estrategia de envío: cada notificación sabe enviarse a su manera, pero el gestor las trata igual.\n",
    "\n",
    "Justificación del ejercicio\n",
    "\n",
    "La idea es unificar y enviar notificaciones por distintos canales. Este ejercicio aplica polimorfismo y jerarquía de clases para manejar distintos tipos de notificaciones (Email, SMS, Push) de forma uniforme con un gestor, donde cada subclase redefine su comportamiento y se aplican reglas específicas como el límite de caracteres en SMS. Básicamente el polimorfismo y jerarquía permiten manejar notificaciones variadas uniformemente."
   ]
  },
  {
   "cell_type": "code",
   "execution_count": 2,
   "id": "f01432fd",
   "metadata": {},
   "outputs": [
    {
     "name": "stdout",
     "output_type": "stream",
     "text": [
      "Preparando Email a juan@gmail.com: Reunión\n",
      "Preparando SMS a 3001234567\n",
      "Preparando SMS a 3009876543\n",
      "Preparando notificación Push a Dispositivo-01\n",
      "\n",
      "Resultados de envíos:\n",
      "Enviando Email a juan@gmail.com con cuerpo: La reunión será a las 3pm.\n",
      "Enviando SMS a 3001234567: Reunion 3pm.\n",
      "Error: SMS demasiado largo (300 caracteres)\n",
      "Enviando Push a Dispositivo-01: Tienes una nueva alerta\n"
     ]
    }
   ],
   "source": [
    "class Notificacion:\n",
    "    def preparar(self): #preparar es un método que no hace nada en la clase base.\n",
    "        pass  #pass indica que no hace nada, es un marcador de posición.\n",
    "\n",
    "    def enviar(self): #enviar es otro método que no hace nada en la clase base.\n",
    "        pass  # Se implementará en las subclases\n",
    "\n",
    "class Email(Notificacion): #se crea la subclase Email que hereda de Notificacion\n",
    "    def __init__(self, asunto, destinatario, cuerpo):\n",
    "        self.asunto = asunto\n",
    "        self.destinatario = destinatario\n",
    "        self.cuerpo = cuerpo\n",
    "\n",
    "    def preparar(self):\n",
    "        return f\"Preparando Email a {self.destinatario}: {self.asunto}\"\n",
    "\n",
    "    def enviar(self):\n",
    "        return f\"Enviando Email a {self.destinatario} con cuerpo: {self.cuerpo}\"\n",
    "\n",
    "class SMS(Notificacion): #se crea la subclase SMS que hereda de Notificacion, con esta ya son 2 subclases.\n",
    "    def __init__(self, numero, mensaje):\n",
    "        self.numero = numero\n",
    "        self.mensaje = mensaje\n",
    "\n",
    "    def preparar(self):\n",
    "        return f\"Preparando SMS a {self.numero}\" #preparar devuelve un string indicando que se está preparando un SMS para el número dado.\n",
    "\n",
    "    def enviar(self):\n",
    "        # Regla básica: SMS no debe exceder 160 caracteres\n",
    "        if len(self.mensaje) > 160:  #len(self.mensaje) devuelve la longitud del mensaje. Basicamente, si el mensaje tiene más de 160 caracteres, se considera demasiado largo.\n",
    "            return f\"Error: SMS demasiado largo ({len(self.mensaje)} caracteres)\" #si el mensaje es demasiado largo, se devuelve un mensaje de error indicando la longitud del mensaje.\n",
    "        return f\"Enviando SMS a {self.numero}: {self.mensaje}\" #si el mensaje es válido, se devuelve un string indicando que se está enviando el SMS al número dado con el contenido del mensaje.\n",
    "\n",
    "class Push(Notificacion):  #se crea la subclase Push que hereda de Notificacion, con esta ya son 3 subclases.\n",
    "    def __init__(self, dispositivo, contenido):\n",
    "        self.dispositivo = dispositivo\n",
    "        self.contenido = contenido\n",
    "\n",
    "    def preparar(self):\n",
    "        return f\"Preparando notificación Push a {self.dispositivo}\"\n",
    "\n",
    "    def enviar(self):\n",
    "        return f\"Enviando Push a {self.dispositivo}: {self.contenido}\"\n",
    "\n",
    "\n",
    "class GestorNotificaciones: #se crea la clase GestorNotificaciones que gestiona una lista de notificaciones.\n",
    "    def __init__(self, notificaciones):\n",
    "        self.notificaciones = notificaciones\n",
    "\n",
    "    def procesar(self): #procesar itera sobre cada notificación en la lista y llama a sus métodos preparar y enviar.\n",
    "        resultados = []\n",
    "        for n in self.notificaciones:\n",
    "            print(n.preparar())      # polimorfismo: cada clase implementa su versión\n",
    "            resultados.append(n.enviar())  # se guarda el resultado del envío\n",
    "        return resultados\n",
    "\n",
    "\n",
    "# EJEMPLO DE USO\n",
    "\n",
    "notificaciones = [\n",
    "    Email(\"Reunión\", \"juan@gmail.com\", \"La reunión será a las 3pm.\"), #se crea una lista de notificaciones que incluye un Email, un SMS y una notificación Push.\n",
    "    SMS(\"3001234567\", \"Reunion 3pm.\"), #Se crea un SMS con un mensaje corto.\n",
    "    SMS(\"3009876543\", \"Reunion 3pm ...\" * 20),  #se crea una prueba de límite de caracteres\n",
    "    Push(\"Dispositivo-01\", \"Tienes una nueva alerta\") #se crea una notificación Push.\n",
    "]\n",
    "\n",
    "gestor = GestorNotificaciones(notificaciones)\n",
    "resultados = gestor.procesar()\n",
    "\n",
    "print(\"\\nResultados de envíos:\")\n",
    "for r in resultados: #se imprimen los resultados de los envíos.\n",
    "    print(r) #cada r en resultados representa el resultado de enviar una notificación.\n"
   ]
  },
  {
   "cell_type": "markdown",
   "id": "0fe9ae09",
   "metadata": {},
   "source": [
    "Aprendizajes: \n",
    "\n",
    "-El polimorfismo permite tratar objetos distintos como Email, SMS, Push de la misma forma.\n",
    "-La separación de preparar y enviar da más control y flexibilidad al flujo.\n",
    "-Una jerarquía de clases organiza mejor los diferentes canales de notificación.\n",
    "-El gestor centralizado simplifica la orquestación de múltiples tipos de notificación.\n",
    "-Existen reglas específicas como el límite en str de un SMS que se integran sin romper la estructura general."
   ]
  }
 ],
 "metadata": {
  "kernelspec": {
   "display_name": "Python 3",
   "language": "python",
   "name": "python3"
  },
  "language_info": {
   "codemirror_mode": {
    "name": "ipython",
    "version": 3
   },
   "file_extension": ".py",
   "mimetype": "text/x-python",
   "name": "python",
   "nbconvert_exporter": "python",
   "pygments_lexer": "ipython3",
   "version": "3.11.9"
  }
 },
 "nbformat": 4,
 "nbformat_minor": 5
}
