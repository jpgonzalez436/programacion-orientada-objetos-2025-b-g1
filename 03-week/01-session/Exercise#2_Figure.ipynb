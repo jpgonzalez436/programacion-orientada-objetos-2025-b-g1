{
 "cells": [
  {
   "cell_type": "markdown",
   "id": "b72224c9",
   "metadata": {},
   "source": [
    "Conceptos a tratar:\n",
    "\"Herencia: cuando una clase nueva (hija) puede usar atributos y métodos de otra clase (padre).\n",
    "Polimorfismo: cuando varias clases distintas tienen un mismo método, pero cada una lo ejecuta a su manera.\""
   ]
  },
  {
   "cell_type": "markdown",
   "id": "613ce76b",
   "metadata": {},
   "source": [
    "Justificación:\n",
    "El ejercicio se basa en hallar el area total de 2 figuras geometricas utilizando clases, métodos y conceptos de herencia y poliformismo.\n",
    "La clave está en entender que existe una clase \"madre\" llamada Figura la cual contiene las 2 figuras geometricas de estudio, circulo y rectangulo. Luego, cada una opera con una función de area la cual es llamada al final por la función calcular_area_total."
   ]
  },
  {
   "cell_type": "code",
   "execution_count": null,
   "id": "92ce2674",
   "metadata": {},
   "outputs": [
    {
     "name": "stdout",
     "output_type": "stream",
     "text": [
      "38.416  cm2\n"
     ]
    }
   ],
   "source": [
    "#Se define la clase abstracta Figura\n",
    "class Figura:\n",
    "    def area():\n",
    "        raise NotImplementedError(\"Subclasses must implement this method\")\n",
    "\n",
    "#Se definen las clases que heredan de Figura, en este caso Rectangulo y Circulo ambas con su respectivo método para calcular el area\n",
    "\n",
    "class Rectangulo(Figura):\n",
    "    def __init__(self, ancho, alto):\n",
    "        self.ancho = ancho\n",
    "        self.alto = alto\n",
    "    def area(self):\n",
    "        return self.ancho * self.alto   \n",
    "\n",
    "class Circulo(Figura):\n",
    "    def __init__(self, radio):\n",
    "        self.radio = radio\n",
    "    def area(self):\n",
    "        return self.radio *2 *3.1416\n",
    "\n",
    "#Se define la función que calcula el area total de las figuras llamando al método area de cada una de las clases.\n",
    "#Se utiliza poliformismo en el bucle for, ya que no se sabe que figura se está trabajando, pero cada una lo hace a su manera.\n",
    "#Al final se retorna el area total\n",
    "\n",
    "def calcular_area_total(figuras : list):\n",
    "    area_total = 0\n",
    "    for figura in figuras:\n",
    "        area_total += figura.area()\n",
    "    return area_total\n",
    "\n",
    "#Se asigna el valor de area total a otra variable y se dan los valores de los atributos de cada figura\n",
    "#Finalmente se imprime el resultado\n",
    "\n",
    "areatotal= calcular_area_total([Rectangulo(2,3), Rectangulo(1,1), Circulo(5)])\n",
    "\n",
    "print(areatotal, \" cm2\")\n",
    "#print(f\"{areatotal} = cm2\") es otra forma de imprimir el resultado con f-string\n"
   ]
  },
  {
   "cell_type": "markdown",
   "id": "689931a8",
   "metadata": {},
   "source": [
    "Resumen:\n",
    "-Este ejercicio utiliza una clase \"abstracta\" llamada figura que contiene otras clases con las figuras geométricas de estudio.\n",
    "-Los métodos contenidos en estas clases definen el área (cada uno con su respectiva formula) y al final de su ejecución retornan el valor del area.\n",
    "-La herencia se da en la clase rectangulo y circulo, las cuales heredan las caracteristicas de la clase \"Figura\".\n",
    "-El poliformismo se usa en \"for figura in figuras ....\", en donde al usar ese bucle no se sabe cual es el area a calcular o que figura se está trabajando, así que cada clase la trabaja a su manera (de acuerdo a las instruciones).  "
   ]
  }
 ],
 "metadata": {
  "kernelspec": {
   "display_name": "Python 3",
   "language": "python",
   "name": "python3"
  },
  "language_info": {
   "codemirror_mode": {
    "name": "ipython",
    "version": 3
   },
   "file_extension": ".py",
   "mimetype": "text/x-python",
   "name": "python",
   "nbconvert_exporter": "python",
   "pygments_lexer": "ipython3",
   "version": "3.11.9"
  }
 },
 "nbformat": 4,
 "nbformat_minor": 5
}
