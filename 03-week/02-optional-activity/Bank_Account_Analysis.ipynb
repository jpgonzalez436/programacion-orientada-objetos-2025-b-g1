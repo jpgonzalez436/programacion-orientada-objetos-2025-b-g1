{
  "cells": [
    {
      "cell_type": "code",
      "execution_count": 1,
      "metadata": {
        "id": "5kHfSOIxP0E_"
      },
      "outputs": [],
      "source": [
        "#Ejercicio 1: Clase CuentaBancaria, transcrito del taller.\n",
        "class CuentaBancaria:\n",
        "    def __init__(self, titular: str, saldo_inicial: float = 0.0):\n",
        "        if saldo_inicial < 0:\n",
        "          raise ValueError(\"El saldo inicial no puede ser negativo\")\n",
        "        self.titular = titular\n",
        "        self._saldo = float(saldo_inicial)\n",
        "        self.historial: list[str] = []\n",
        "    @property\n",
        "    def saldo(self) -> float:\n",
        "        return self._saldo\n",
        "\n",
        "    def depositar(self, monto: float) -> None:\n",
        "        if monto <= 0:\n",
        "          raise ValueError(\"El depósito debe ser positivo\")\n",
        "        self._saldo += monto\n",
        "        self.historial.append(f\"Depósito de {monto}\")\n",
        "\n",
        "    def retirar(self, monto: float) -> None:\n",
        "        if monto <= 0:\n",
        "          raise ValueError(\"El retiro debe ser positivo\")\n",
        "        if monto > self._saldo:\n",
        "          raise ValueError(\"Fondos insuficientes\")\n",
        "        self._saldo -= monto\n",
        "        self.historial.append(f\"Retiro de {monto}\")\n",
        "\n",
        "    def _repr_(self) -> str:\n",
        "        return f\"CuentaBancaria(titular='{self.titular}', saldo={self._saldo:.2f})\"\n",
        "\n"
      ]
    },
    {
      "cell_type": "markdown",
      "metadata": {
        "id": "U2DyR39PcHRD"
      },
      "source": [
        "La clase CuentaBancaria modela una cuenta con titular, saldo y un historial de transacciones, asegurando que el saldo inicial no sea negativo.\n",
        "Incluye métodos para depositar, retirar y mostrar la cuenta con el saldo actual formateado.\n",
        "\n",
        "> Añadir blockquote\n",
        "\n"
      ]
    },
    {
      "cell_type": "markdown",
      "metadata": {
        "id": "X0Ei1qsOcVvH"
      },
      "source": []
    },
    {
      "cell_type": "code",
      "execution_count": 2,
      "metadata": {
        "colab": {
          "base_uri": "https://localhost:8080/"
        },
        "id": "d64669dc",
        "outputId": "bff906c7-ba99-44a3-d1c2-c1602fa39a2a"
      },
      "outputs": [
        {
          "name": "stdout",
          "output_type": "stream",
          "text": [
            "CuentaBancaria(titular='Juan Gonzalez', saldo=500000.00)\n",
            "CuentaBancaria(titular='Juan Gonzalez', saldo=550000.00)\n",
            "CuentaBancaria(titular='Juan Gonzalez', saldo=100000.00)\n",
            "CuentaBancaria(titular='Juan Gonzalez', saldo=90000.00)\n",
            "CuentaBancaria(titular='Juan Gonzalez', saldo=140000.00)\n",
            "Historial de transacciones:\n",
            "Depósito de 50000\n",
            "Retiro de 450000\n",
            "Retiro de 10000\n",
            "Depósito de 50000\n"
          ]
        }
      ],
      "source": [
        "\n",
        "#El ejercicio inicia con una clase llamada CuentaBancaria y luego se define una función llamada __init__.\n",
        "#Cuando una función está dentro de una clase, esta pasa a llamarse método.\n",
        "#El método __init__ es un método especial llamado constructor que se llama automáticamente cuando se crea una nueva función de una clase.\n",
        "#Este método se utiliza para inicializar los atributos del objeto. Los atributos son las características o propiedades que tiene un objeto.\n",
        "#En este caso, el método __init__ recibe tres parámetros: self, titular, saldo_inicial.\n",
        "#El parámetro self es una referencia al objeto que se está creando y se utiliza para acceder a los atributos y métodos de la clase.\n",
        "\n",
        "\n",
        "class CuentaBancaria:\n",
        "    def __init__(self, titular: str, saldo_inicial: float = 0.0):\n",
        "        if saldo_inicial < 0:\n",
        "          raise ValueError(\"El saldo inicial no puede ser negativo\")\n",
        "        self.titular = titular\n",
        "        self._saldo = float(saldo_inicial)\n",
        "        self.historial: list[str] = []\n",
        "\n",
        "#luego de iniciar el constructor __init_, se hace uso de un condicional if para verificar que el saldo inicial no sea negativo.\n",
        "#Si el saldo inicial es negativo, se utiliza raise ValueError para lanzar una excepción con un mensaje de error.\n",
        "#raise ValueError es una forma de indicar que ha ocurrido un error en el programa y que se debe manejar adecuadamente.\n",
        "#Luego, se inicializan los atributos del objeto utilizando self. self.titular se asigna el valor titular (parametro)\n",
        "#y self._saldo se asigna el valor saldo_inicial convertido a float. El _ antes del nombre del atributo _saldo indica que es \n",
        "#un encapsulamiento, es decir, que no debe ser accedido directamente desde fuera de la clase.\n",
        "#Self.historial se inicializa como una lista vacía que almacenará el historial de transacciones tipo str.\n",
        "\n",
        "    @property\n",
        "    def saldo(self) -> float:\n",
        "        return self._saldo\n",
        "\n",
        "#La propiedad @property se utiliza para definir un método que se comporta como un atributo y permite acceder a los datos de manera segura.\n",
        "#def saldo(self) -> float: define un método llamado saldo tipo float que devuelve el valor del atributo _saldo.\n",
        "#en esta caso, _saldo esta asignado a saldo_inicial en el constructor __init__. y su valor es 0.0.\n",
        "\n",
        "    def depositar(self, monto: float) -> None:\n",
        "        if monto <= 0:\n",
        "          raise ValueError(\"El depósito debe ser positivo\")\n",
        "        self._saldo += monto\n",
        "        self.historial.append(f\"Depósito de {monto}\")\n",
        "\n",
        "#Aqui se define un método llamado depositar que recibe un parámetro monto tipo float y no devuelve ningún valor (None).\n",
        "#Siempre que se define un método, el primer parámetro debe ser self para referirse al objeto actual.\n",
        "#Por obvias razones el monto debe ser mayor a 0, si no entonces da error.\n",
        "#self._saldo += monto suma el monto que se deposita al saldo actual.\n",
        "\n",
        "    def retirar(self, monto: float) -> None:\n",
        "        if monto <= 0:\n",
        "          raise ValueError(\"El retiro debe ser positivo\")\n",
        "        if monto > self._saldo:\n",
        "          raise ValueError(\"Fondos insuficientes\")\n",
        "        self._saldo -= monto\n",
        "        self.historial.append(f\"Retiro de {monto}\")\n",
        "\n",
        "#Aqui es un poco de lo mismo se define un método llamado retirar que recibe un parámetro monto tipo float y no devuelve ningún valor (None).\n",
        "#No puedes retirar menos de 0 y da eror.  En caso de que quieras retirar más de lo que tienes en la cuenta, también da error.\n",
        "#self._saldo -= monto resta el dinero que se retira al saldo actual.\n",
        "#luego se agrega una entrada al historial de transacciones indicando el retiro realizado.\n",
        "#El .append() es un método de las listas en Python que se utiliza para agregar un elemento al final de la lista.\n",
        "#la f en el string es para permitir varias variables dentro de un string. Otra forma de hacerlo es con el \"+\".\n",
        "\n",
        "    def __repr__(self) -> str:\n",
        "        return f\"CuentaBancaria(titular='{self.titular}', saldo={self._saldo:.2f})\"\n",
        "\n",
        "#A diferencia del método __init__, el método __repr__ no es un constructor, sino un método especial que se utiliza para definir\n",
        "#Sirve para decirle a Python cómo quieres que se muestre tu objeto cuando lo imprimes.\n",
        "#luego retorna un string que representa el objeto CuentaBancaria, mostrando el titular y el saldo con dos decimales.\n",
        "#Básicamente, imprime la clase CuentaBancaria con su titular y saldo.\n",
        "#En este caso no se ha asignado ningún valor a nada asi que no se mostrará nada.\n",
        "\n",
        "# Ejemplo de uso de la clase CuentaBancaria\n",
        "try:\n",
        "    cuenta1 = CuentaBancaria(\"Juan Gonzalez\",500000)\n",
        "    print(cuenta1)\n",
        "\n",
        "    cuenta1.depositar(50000)\n",
        "    print(cuenta1)\n",
        "\n",
        "    cuenta1.retirar(450000)\n",
        "    print(cuenta1)\n",
        "\n",
        "    cuenta1.retirar(10000)\n",
        "    print(cuenta1)\n",
        "\n",
        "    cuenta1.depositar(50000)\n",
        "    print(cuenta1)\n",
        "    \n",
        "# Para obetener error por retiro=   cuenta1.retirar(450000)\n",
        "#   print(cuenta1)\n",
        "\n",
        "\n",
        "    print(\"Historial de transacciones:\")\n",
        "    for transaccion in cuenta1.historial:\n",
        "        print(transaccion)\n",
        "\n",
        "\n",
        "\n",
        "except ValueError as e:\n",
        "    print(f\"Error: {e}\")"
      ]
    }
  ],
  "metadata": {
    "colab": {
      "provenance": []
    },
    "kernelspec": {
      "display_name": "Python 3",
      "name": "python3"
    },
    "language_info": {
      "codemirror_mode": {
        "name": "ipython",
        "version": 3
      },
      "file_extension": ".py",
      "mimetype": "text/x-python",
      "name": "python",
      "nbconvert_exporter": "python",
      "pygments_lexer": "ipython3",
      "version": "3.11.9"
    }
  },
  "nbformat": 4,
  "nbformat_minor": 0
}
