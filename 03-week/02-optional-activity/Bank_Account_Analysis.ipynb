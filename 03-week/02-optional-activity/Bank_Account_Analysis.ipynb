{
  "nbformat": 4,
  "nbformat_minor": 0,
  "metadata": {
    "colab": {
      "provenance": []
    },
    "kernelspec": {
      "name": "python3",
      "display_name": "Python 3"
    },
    "language_info": {
      "name": "python"
    }
  },
  "cells": [
    {
      "cell_type": "code",
      "execution_count": 22,
      "metadata": {
        "id": "5kHfSOIxP0E_"
      },
      "outputs": [],
      "source": [
        "class CuentaBancaria:\n",
        "    def __init__(self, titular: str, saldo_inicial: float = 0.0):\n",
        "        if saldo_inicial < 0:\n",
        "          raise ValueError(\"El saldo inicial no puede ser negativo\")\n",
        "        self.titular = titular\n",
        "        self._saldo = float(saldo_inicial)\n",
        "        self.historial: list[str] = []\n",
        "    @property\n",
        "    def saldo(self) -> float:\n",
        "        return self._saldo\n",
        "\n",
        "    def depositar(self, monto: float) -> None:\n",
        "        if monto <= 0:\n",
        "          raise ValueError(\"El depósito debe ser positivo\")\n",
        "        self._saldo += monto\n",
        "        self.historial.append(f\"Depósito de {monto}\")\n",
        "\n",
        "    def retirar(self, monto: float) -> None:\n",
        "        if monto <= 0:\n",
        "          raise ValueError(\"El retiro debe ser positivo\")\n",
        "        if monto > self._saldo:\n",
        "          raise ValueError(\"Fondos insuficientes\")\n",
        "        self._saldo -= monto\n",
        "        self.historial.append(f\"Retiro de {monto}\")\n",
        "\n",
        "    def _repr_(self) -> str:\n",
        "        return f\"CuentaBancaria(titular='{self.titular}', saldo={self._saldo:.2f})\"\n",
        "\n"
      ]
    },
    {
      "cell_type": "markdown",
      "source": [
        "La clase CuentaBancaria modela una cuenta con titular, saldo y un historial de transacciones, asegurando que el saldo inicial no sea negativo.\n",
        "Incluye métodos para depositar, retirar y mostrar la cuenta con el saldo actual formateado.\n",
        "\n",
        "> Añadir blockquote\n",
        "\n"
      ],
      "metadata": {
        "id": "U2DyR39PcHRD"
      }
    },
    {
      "cell_type": "markdown",
      "source": [],
      "metadata": {
        "id": "X0Ei1qsOcVvH"
      }
    },
    {
      "cell_type": "code",
      "metadata": {
        "id": "d64669dc",
        "outputId": "bff906c7-ba99-44a3-d1c2-c1602fa39a2a",
        "colab": {
          "base_uri": "https://localhost:8080/"
        }
      },
      "source": [
        "class CuentaBancaria:\n",
        "    def __init__(self, titular: str, saldo_inicial: float = 0.0):\n",
        "        if saldo_inicial < 0:\n",
        "          raise ValueError(\"El saldo inicial no puede ser negativo\")\n",
        "        self.titular = titular\n",
        "        self._saldo = float(saldo_inicial)\n",
        "        self.historial: list[str] = []\n",
        "\n",
        "    @property\n",
        "    def saldo(self) -> float:\n",
        "        return self._saldo\n",
        "\n",
        "    def depositar(self, monto: float) -> None:\n",
        "        if monto <= 0:\n",
        "          raise ValueError(\"El depósito debe ser positivo\")\n",
        "        self._saldo += monto\n",
        "        self.historial.append(f\"Depósito de {monto}\")\n",
        "\n",
        "    def retirar(self, monto: float) -> None:\n",
        "        if monto <= 0:\n",
        "          raise ValueError(\"El retiro debe ser positivo\")\n",
        "        if monto > self._saldo:\n",
        "          raise ValueError(\"Fondos insuficientes\")\n",
        "        self._saldo -= monto\n",
        "        self.historial.append(f\"Retiro de {monto}\")\n",
        "\n",
        "    def __repr__(self) -> str:\n",
        "        return f\"CuentaBancaria(titular='{self.titular}', saldo={self._saldo:.2f})\"\n",
        "\n",
        "# Example usage:\n",
        "try:\n",
        "    cuenta1 = CuentaBancaria(\"Juan Perez\", 1000)\n",
        "    print(cuenta1)\n",
        "\n",
        "    cuenta1.depositar(500)\n",
        "    print(cuenta1)\n",
        "\n",
        "    cuenta1.retirar(200)\n",
        "    print(cuenta1)\n",
        "\n",
        "    print(\"Historial de transacciones:\")\n",
        "    for transaccion in cuenta1.historial:\n",
        "        print(transaccion)\n",
        "\n",
        "    # Example of insufficient funds\n",
        "    # cuenta1.retirar(2000)\n",
        "\n",
        "    # Example of negative initial balance\n",
        "    # cuenta2 = CuentaBancaria(\"Maria Lopez\", -100)\n",
        "\n",
        "except ValueError as e:\n",
        "    print(f\"Error: {e}\")"
      ],
      "execution_count": 23,
      "outputs": [
        {
          "output_type": "stream",
          "name": "stdout",
          "text": [
            "CuentaBancaria(titular='Juan Perez', saldo=1000.00)\n",
            "CuentaBancaria(titular='Juan Perez', saldo=1500.00)\n",
            "CuentaBancaria(titular='Juan Perez', saldo=1300.00)\n",
            "Historial de transacciones:\n",
            "Depósito de 500\n",
            "Retiro de 200\n"
          ]
        }
      ]
    }
  ]
}