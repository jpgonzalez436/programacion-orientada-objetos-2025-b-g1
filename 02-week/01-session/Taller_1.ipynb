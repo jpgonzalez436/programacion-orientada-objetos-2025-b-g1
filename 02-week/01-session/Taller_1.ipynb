{
  "nbformat": 4,
  "nbformat_minor": 0,
  "metadata": {
    "colab": {
      "provenance": []
    },
    "kernelspec": {
      "name": "python3",
      "display_name": "Python 3"
    },
    "language_info": {
      "name": "python"
    }
  },
  "cells": [
    {
      "cell_type": "code",
      "execution_count": 1,
      "metadata": {
        "colab": {
          "base_uri": "https://localhost:8080/"
        },
        "id": "aZNV7ysyNfWC",
        "outputId": "2ae41512-c7b4-4030-f541-e43e042704ba"
      },
      "outputs": [
        {
          "output_type": "stream",
          "name": "stdout",
          "text": [
            "Digitar 1= retiro | 2 = consignación.1\n",
            "Valor de la transacción : 500000\n",
            "El nuevo saldo es: 500000.0\n",
            "\n",
            "Digitar 1= retiro | 2 = consignación.1\n",
            "Valor de la transacción : 100000\n",
            "El nuevo saldo es: 400000.0\n",
            "\n"
          ]
        }
      ],
      "source": [
        "# Capital total\n",
        "capital = 1000000\n",
        "\n",
        "# acción 1= retiro | 2 = consignación.\n",
        "\n",
        "# Trasacción 1\n",
        "accion = int(input(\"Digitar 1= retiro | 2 = consignación.\"))\n",
        "\n",
        "if accion == 1:\n",
        "  capital = capital - float(input(\"Valor de la transacción : \"))\n",
        "if accion == 2:\n",
        "  capital = capital + float(input(\"Valor de la transacción : \"))\n",
        "if accion < 1 or accion > 2:\n",
        "  print(\"No es una acción válida.\")\n",
        "print(\"El nuevo saldo es: \"+str(capital)+\"\\n\")\n",
        "\n",
        "# Trasacción 2\n",
        "accion = int(input(\"Digitar 1= retiro | 2 = consignación.\"))\n",
        "\n",
        "if accion == 1:\n",
        "  capital = capital - float(input(\"Valor de la transacción : \"))\n",
        "if accion == 2:\n",
        "  capital = capital + float(input(\"Valor de la transacción : \"))\n",
        "if accion < 1 or accion > 2:\n",
        "  print(\"No es una acción válida.\")\n",
        "print(\"El nuevo saldo es: \"+str(capital)+\"\\n\")"
      ]
    }
  ]
}